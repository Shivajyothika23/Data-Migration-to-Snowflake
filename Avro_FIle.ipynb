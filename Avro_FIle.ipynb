{
  "nbformat": 4,
  "nbformat_minor": 0,
  "metadata": {
    "colab": {
      "provenance": []
    },
    "kernelspec": {
      "name": "python3",
      "display_name": "Python 3"
    },
    "language_info": {
      "name": "python"
    }
  },
  "cells": [
    {
      "cell_type": "code",
      "source": [
        "import avro.schema\n",
        "from avro.datafile import DataFileWriter\n",
        "from avro.io import DatumWriter\n",
        "\n",
        "schema = avro.schema.parse('''\n",
        "{\n",
        "    \"type\": \"record\",\n",
        "    \"name\": \"test\",\n",
        "    \"fields\": [\n",
        "        {\"name\": \"Customer_Id\", \"type\": [\"null\",\"int\"]},\n",
        "        {\"name\": \"Account_number\", \"type\": [\"null\",\"int\"]},\n",
        "        {\"name\": \"First_Name\", \"type\": [\"null\",\"string\"]},\n",
        "        {\"name\": \"Last_Name\", \"type\": [\"null\",\"string\"]},\n",
        "        {\"name\": \"Age\", \"type\": [\"null\",\"int\"]},\n",
        "        {\"name\": \"Gender\", \"type\": [\"null\",\"string\"]},\n",
        "        {\"name\": \"Date_of_birth\", \"type\": [\"null\",\"string\"]},\n",
        "        {\"name\": \"State\", \"type\": [\"null\",\"string\"]},\n",
        "        {\"name\": \"Address\", \"type\": [\"null\",\"string\"]},\n",
        "        {\"name\": \"Phone_number\", \"type\": [\"null\",\"string\"]},\n",
        "        {\"name\":\"Alternate_Mobile_Number\",\"type\":[\"null\",\"string\"]},\n",
        "        {\"name\":\"Email_address\",\"type\":[\"null\",\"string\"]},\n",
        "        {\"name\":\"Marital_status\",\"type\":[\"null\",\"string\"]},\n",
        "        {\"name\":\"Annual_Income\",\"type\":[\"null\",\"double\"]},\n",
        "        {\"name\":\"Employment_history\",\"type\":[\"null\",\"string\"]},\n",
        "        {\"name\":\"Education_history\",\"type\":[\"null\",\"string\"]},\n",
        "        {\"name\":\"Criminal_record\",\"type\":[\"null\",\"boolean\"]},\n",
        "        {\"name\":\"Credit_history\",\"type\":[\"null\",\"boolean\"]},\n",
        "        {\"name\":\"Driver_license_number\",\"type\":[\"null\",\"string\"]},\n",
        "        {\"name\":\"Tax_records\",\"type\":[\"null\",\"boolean\"]},\n",
        "        {\"name\":\"Travel_history\",\"type\":[\"null\",\"boolean\"]},\n",
        "        {\"name\":\"Property_ownership_records\",\"type\":[\"null\",\"boolean\"]},\n",
        "        {\"name\":\"Previous_lawsuits\",\"type\":[\"null\",\"boolean\"]},\n",
        "        {\"name\":\"Medical_history\",\"type\":[\"null\",\"boolean\"]},\n",
        "        {\"name\":\"Charitable_contributions\",\"type\":[\"null\",\"double\"]}\n",
        "    ]\n",
        "}\n",
        "''')\n",
        "\n",
        "writer = DataFileWriter(open(\"test.avro\", 'wb'), DatumWriter(), schema)\n",
        "\n",
        "for i in range(30):\n",
        "    writer.append({\"Customer_Id\":i,\n",
        "                  \t\"Account_number\":i+100,\n",
        "                  \t\"First_Name\":\"first_name_\"+str(i),\n",
        "                  \t\"Last_Name\":\"last_name_\"+str(i),\n",
        "                  \t\"Age\":i+20,\n",
        "                  \t\"Gender\":\"Male\",\n",
        "                  \t\"Date_of_birth\":\"01-01-2000\",\n",
        "                    \"State\":\"WA\",\n",
        "                  \t\"Address\":\"address_\"+str(i),\n",
        "                  \t\"Phone_number\":\"+1-123-456-7890\",\n",
        "                  \t\"Alternate_Mobile_Number\":\"+1-123-456-7890\",\n",
        "                  \t\"Email_address\":\"email_\"+str(i)+\"@example.com\",\n",
        "                  \t\"Marital_status\":\"Single\",\n",
        "                  \t\"Annual_Income\":100000+i*1000,\n",
        "                  \t\"Employment_history\":\"employment_\"+str(i),\n",
        "                  \t\"Education_history\":\"education_\"+str(i),\n",
        "                  \t\"Criminal_record\":False,\n",
        "                  \t\"Credit_history\":True,\n",
        "                  \t\"Driver_license_number\":\"+1-123-456-7890\",\n",
        "                  \t\"Tax_records\":True,\n",
        "                  \t\"Travel_history\":False,\n",
        "                  \t\"Property_ownership_records\":True,\n",
        "                  \t\"Previous_lawsuits\":False,\n",
        "                  \t\"Medical_history\":True,\n",
        "                  \t\"Charitable_contributions\":i*10\n",
        "                  })\n",
        "\n",
        "writer.close()\n"
      ],
      "metadata": {
        "id": "O1HFNXW3qQq7"
      },
      "execution_count": 8,
      "outputs": []
    },
    {
      "cell_type": "code",
      "source": [
        "from google.colab import files\n",
        "\n",
        "files.download('test.avro')"
      ],
      "metadata": {
        "colab": {
          "base_uri": "https://localhost:8080/",
          "height": 17
        },
        "id": "ge72PA5s4Kzh",
        "outputId": "01b50514-dd07-4bd1-9d82-cf3f0a8edce0"
      },
      "execution_count": 9,
      "outputs": [
        {
          "output_type": "display_data",
          "data": {
            "text/plain": [
              "<IPython.core.display.Javascript object>"
            ],
            "application/javascript": [
              "\n",
              "    async function download(id, filename, size) {\n",
              "      if (!google.colab.kernel.accessAllowed) {\n",
              "        return;\n",
              "      }\n",
              "      const div = document.createElement('div');\n",
              "      const label = document.createElement('label');\n",
              "      label.textContent = `Downloading \"${filename}\": `;\n",
              "      div.appendChild(label);\n",
              "      const progress = document.createElement('progress');\n",
              "      progress.max = size;\n",
              "      div.appendChild(progress);\n",
              "      document.body.appendChild(div);\n",
              "\n",
              "      const buffers = [];\n",
              "      let downloaded = 0;\n",
              "\n",
              "      const channel = await google.colab.kernel.comms.open(id);\n",
              "      // Send a message to notify the kernel that we're ready.\n",
              "      channel.send({})\n",
              "\n",
              "      for await (const message of channel.messages) {\n",
              "        // Send a message to notify the kernel that we're ready.\n",
              "        channel.send({})\n",
              "        if (message.buffers) {\n",
              "          for (const buffer of message.buffers) {\n",
              "            buffers.push(buffer);\n",
              "            downloaded += buffer.byteLength;\n",
              "            progress.value = downloaded;\n",
              "          }\n",
              "        }\n",
              "      }\n",
              "      const blob = new Blob(buffers, {type: 'application/binary'});\n",
              "      const a = document.createElement('a');\n",
              "      a.href = window.URL.createObjectURL(blob);\n",
              "      a.download = filename;\n",
              "      div.appendChild(a);\n",
              "      a.click();\n",
              "      div.remove();\n",
              "    }\n",
              "  "
            ]
          },
          "metadata": {}
        },
        {
          "output_type": "display_data",
          "data": {
            "text/plain": [
              "<IPython.core.display.Javascript object>"
            ],
            "application/javascript": [
              "download(\"download_98241996-c335-432f-a5bd-ebbc1c728d07\", \"test.avro\", 7810)"
            ]
          },
          "metadata": {}
        }
      ]
    },
    {
      "cell_type": "code",
      "source": [
        "import fastavro\n",
        "\n",
        "with open('test.avro', 'rb') as in_file:\n",
        "    reader = fastavro.reader(in_file)\n",
        "    schema = reader.writer_schema\n",
        "    for record in reader:\n",
        "        print(record)"
      ],
      "metadata": {
        "colab": {
          "base_uri": "https://localhost:8080/"
        },
        "id": "33AXdjVy5aJQ",
        "outputId": "1ff11d92-2909-4fbc-dfd3-88fcf7f95d93"
      },
      "execution_count": 10,
      "outputs": [
        {
          "output_type": "stream",
          "name": "stdout",
          "text": [
            "{'Customer_Id': 0, 'Account_number': 100, 'First_Name': 'first_name_0', 'Last_Name': 'last_name_0', 'Age': 20, 'Gender': 'Male', 'Date_of_birth': '01-01-2000', 'State': 'WA', 'Address': 'address_0', 'Phone_number': '+1-123-456-7890', 'Alternate_Mobile_Number': '+1-123-456-7890', 'Email_address': 'email_0@example.com', 'Marital_status': 'Single', 'Annual_Income': 100000.0, 'Employment_history': 'employment_0', 'Education_history': 'education_0', 'Criminal_record': False, 'Credit_history': True, 'Driver_license_number': '+1-123-456-7890', 'Tax_records': True, 'Travel_history': False, 'Property_ownership_records': True, 'Previous_lawsuits': False, 'Medical_history': True, 'Charitable_contributions': 0.0}\n",
            "{'Customer_Id': 1, 'Account_number': 101, 'First_Name': 'first_name_1', 'Last_Name': 'last_name_1', 'Age': 21, 'Gender': 'Male', 'Date_of_birth': '01-01-2000', 'State': 'WA', 'Address': 'address_1', 'Phone_number': '+1-123-456-7890', 'Alternate_Mobile_Number': '+1-123-456-7890', 'Email_address': 'email_1@example.com', 'Marital_status': 'Single', 'Annual_Income': 101000.0, 'Employment_history': 'employment_1', 'Education_history': 'education_1', 'Criminal_record': False, 'Credit_history': True, 'Driver_license_number': '+1-123-456-7890', 'Tax_records': True, 'Travel_history': False, 'Property_ownership_records': True, 'Previous_lawsuits': False, 'Medical_history': True, 'Charitable_contributions': 10.0}\n",
            "{'Customer_Id': 2, 'Account_number': 102, 'First_Name': 'first_name_2', 'Last_Name': 'last_name_2', 'Age': 22, 'Gender': 'Male', 'Date_of_birth': '01-01-2000', 'State': 'WA', 'Address': 'address_2', 'Phone_number': '+1-123-456-7890', 'Alternate_Mobile_Number': '+1-123-456-7890', 'Email_address': 'email_2@example.com', 'Marital_status': 'Single', 'Annual_Income': 102000.0, 'Employment_history': 'employment_2', 'Education_history': 'education_2', 'Criminal_record': False, 'Credit_history': True, 'Driver_license_number': '+1-123-456-7890', 'Tax_records': True, 'Travel_history': False, 'Property_ownership_records': True, 'Previous_lawsuits': False, 'Medical_history': True, 'Charitable_contributions': 20.0}\n",
            "{'Customer_Id': 3, 'Account_number': 103, 'First_Name': 'first_name_3', 'Last_Name': 'last_name_3', 'Age': 23, 'Gender': 'Male', 'Date_of_birth': '01-01-2000', 'State': 'WA', 'Address': 'address_3', 'Phone_number': '+1-123-456-7890', 'Alternate_Mobile_Number': '+1-123-456-7890', 'Email_address': 'email_3@example.com', 'Marital_status': 'Single', 'Annual_Income': 103000.0, 'Employment_history': 'employment_3', 'Education_history': 'education_3', 'Criminal_record': False, 'Credit_history': True, 'Driver_license_number': '+1-123-456-7890', 'Tax_records': True, 'Travel_history': False, 'Property_ownership_records': True, 'Previous_lawsuits': False, 'Medical_history': True, 'Charitable_contributions': 30.0}\n",
            "{'Customer_Id': 4, 'Account_number': 104, 'First_Name': 'first_name_4', 'Last_Name': 'last_name_4', 'Age': 24, 'Gender': 'Male', 'Date_of_birth': '01-01-2000', 'State': 'WA', 'Address': 'address_4', 'Phone_number': '+1-123-456-7890', 'Alternate_Mobile_Number': '+1-123-456-7890', 'Email_address': 'email_4@example.com', 'Marital_status': 'Single', 'Annual_Income': 104000.0, 'Employment_history': 'employment_4', 'Education_history': 'education_4', 'Criminal_record': False, 'Credit_history': True, 'Driver_license_number': '+1-123-456-7890', 'Tax_records': True, 'Travel_history': False, 'Property_ownership_records': True, 'Previous_lawsuits': False, 'Medical_history': True, 'Charitable_contributions': 40.0}\n",
            "{'Customer_Id': 5, 'Account_number': 105, 'First_Name': 'first_name_5', 'Last_Name': 'last_name_5', 'Age': 25, 'Gender': 'Male', 'Date_of_birth': '01-01-2000', 'State': 'WA', 'Address': 'address_5', 'Phone_number': '+1-123-456-7890', 'Alternate_Mobile_Number': '+1-123-456-7890', 'Email_address': 'email_5@example.com', 'Marital_status': 'Single', 'Annual_Income': 105000.0, 'Employment_history': 'employment_5', 'Education_history': 'education_5', 'Criminal_record': False, 'Credit_history': True, 'Driver_license_number': '+1-123-456-7890', 'Tax_records': True, 'Travel_history': False, 'Property_ownership_records': True, 'Previous_lawsuits': False, 'Medical_history': True, 'Charitable_contributions': 50.0}\n",
            "{'Customer_Id': 6, 'Account_number': 106, 'First_Name': 'first_name_6', 'Last_Name': 'last_name_6', 'Age': 26, 'Gender': 'Male', 'Date_of_birth': '01-01-2000', 'State': 'WA', 'Address': 'address_6', 'Phone_number': '+1-123-456-7890', 'Alternate_Mobile_Number': '+1-123-456-7890', 'Email_address': 'email_6@example.com', 'Marital_status': 'Single', 'Annual_Income': 106000.0, 'Employment_history': 'employment_6', 'Education_history': 'education_6', 'Criminal_record': False, 'Credit_history': True, 'Driver_license_number': '+1-123-456-7890', 'Tax_records': True, 'Travel_history': False, 'Property_ownership_records': True, 'Previous_lawsuits': False, 'Medical_history': True, 'Charitable_contributions': 60.0}\n",
            "{'Customer_Id': 7, 'Account_number': 107, 'First_Name': 'first_name_7', 'Last_Name': 'last_name_7', 'Age': 27, 'Gender': 'Male', 'Date_of_birth': '01-01-2000', 'State': 'WA', 'Address': 'address_7', 'Phone_number': '+1-123-456-7890', 'Alternate_Mobile_Number': '+1-123-456-7890', 'Email_address': 'email_7@example.com', 'Marital_status': 'Single', 'Annual_Income': 107000.0, 'Employment_history': 'employment_7', 'Education_history': 'education_7', 'Criminal_record': False, 'Credit_history': True, 'Driver_license_number': '+1-123-456-7890', 'Tax_records': True, 'Travel_history': False, 'Property_ownership_records': True, 'Previous_lawsuits': False, 'Medical_history': True, 'Charitable_contributions': 70.0}\n",
            "{'Customer_Id': 8, 'Account_number': 108, 'First_Name': 'first_name_8', 'Last_Name': 'last_name_8', 'Age': 28, 'Gender': 'Male', 'Date_of_birth': '01-01-2000', 'State': 'WA', 'Address': 'address_8', 'Phone_number': '+1-123-456-7890', 'Alternate_Mobile_Number': '+1-123-456-7890', 'Email_address': 'email_8@example.com', 'Marital_status': 'Single', 'Annual_Income': 108000.0, 'Employment_history': 'employment_8', 'Education_history': 'education_8', 'Criminal_record': False, 'Credit_history': True, 'Driver_license_number': '+1-123-456-7890', 'Tax_records': True, 'Travel_history': False, 'Property_ownership_records': True, 'Previous_lawsuits': False, 'Medical_history': True, 'Charitable_contributions': 80.0}\n",
            "{'Customer_Id': 9, 'Account_number': 109, 'First_Name': 'first_name_9', 'Last_Name': 'last_name_9', 'Age': 29, 'Gender': 'Male', 'Date_of_birth': '01-01-2000', 'State': 'WA', 'Address': 'address_9', 'Phone_number': '+1-123-456-7890', 'Alternate_Mobile_Number': '+1-123-456-7890', 'Email_address': 'email_9@example.com', 'Marital_status': 'Single', 'Annual_Income': 109000.0, 'Employment_history': 'employment_9', 'Education_history': 'education_9', 'Criminal_record': False, 'Credit_history': True, 'Driver_license_number': '+1-123-456-7890', 'Tax_records': True, 'Travel_history': False, 'Property_ownership_records': True, 'Previous_lawsuits': False, 'Medical_history': True, 'Charitable_contributions': 90.0}\n",
            "{'Customer_Id': 10, 'Account_number': 110, 'First_Name': 'first_name_10', 'Last_Name': 'last_name_10', 'Age': 30, 'Gender': 'Male', 'Date_of_birth': '01-01-2000', 'State': 'WA', 'Address': 'address_10', 'Phone_number': '+1-123-456-7890', 'Alternate_Mobile_Number': '+1-123-456-7890', 'Email_address': 'email_10@example.com', 'Marital_status': 'Single', 'Annual_Income': 110000.0, 'Employment_history': 'employment_10', 'Education_history': 'education_10', 'Criminal_record': False, 'Credit_history': True, 'Driver_license_number': '+1-123-456-7890', 'Tax_records': True, 'Travel_history': False, 'Property_ownership_records': True, 'Previous_lawsuits': False, 'Medical_history': True, 'Charitable_contributions': 100.0}\n",
            "{'Customer_Id': 11, 'Account_number': 111, 'First_Name': 'first_name_11', 'Last_Name': 'last_name_11', 'Age': 31, 'Gender': 'Male', 'Date_of_birth': '01-01-2000', 'State': 'WA', 'Address': 'address_11', 'Phone_number': '+1-123-456-7890', 'Alternate_Mobile_Number': '+1-123-456-7890', 'Email_address': 'email_11@example.com', 'Marital_status': 'Single', 'Annual_Income': 111000.0, 'Employment_history': 'employment_11', 'Education_history': 'education_11', 'Criminal_record': False, 'Credit_history': True, 'Driver_license_number': '+1-123-456-7890', 'Tax_records': True, 'Travel_history': False, 'Property_ownership_records': True, 'Previous_lawsuits': False, 'Medical_history': True, 'Charitable_contributions': 110.0}\n",
            "{'Customer_Id': 12, 'Account_number': 112, 'First_Name': 'first_name_12', 'Last_Name': 'last_name_12', 'Age': 32, 'Gender': 'Male', 'Date_of_birth': '01-01-2000', 'State': 'WA', 'Address': 'address_12', 'Phone_number': '+1-123-456-7890', 'Alternate_Mobile_Number': '+1-123-456-7890', 'Email_address': 'email_12@example.com', 'Marital_status': 'Single', 'Annual_Income': 112000.0, 'Employment_history': 'employment_12', 'Education_history': 'education_12', 'Criminal_record': False, 'Credit_history': True, 'Driver_license_number': '+1-123-456-7890', 'Tax_records': True, 'Travel_history': False, 'Property_ownership_records': True, 'Previous_lawsuits': False, 'Medical_history': True, 'Charitable_contributions': 120.0}\n",
            "{'Customer_Id': 13, 'Account_number': 113, 'First_Name': 'first_name_13', 'Last_Name': 'last_name_13', 'Age': 33, 'Gender': 'Male', 'Date_of_birth': '01-01-2000', 'State': 'WA', 'Address': 'address_13', 'Phone_number': '+1-123-456-7890', 'Alternate_Mobile_Number': '+1-123-456-7890', 'Email_address': 'email_13@example.com', 'Marital_status': 'Single', 'Annual_Income': 113000.0, 'Employment_history': 'employment_13', 'Education_history': 'education_13', 'Criminal_record': False, 'Credit_history': True, 'Driver_license_number': '+1-123-456-7890', 'Tax_records': True, 'Travel_history': False, 'Property_ownership_records': True, 'Previous_lawsuits': False, 'Medical_history': True, 'Charitable_contributions': 130.0}\n",
            "{'Customer_Id': 14, 'Account_number': 114, 'First_Name': 'first_name_14', 'Last_Name': 'last_name_14', 'Age': 34, 'Gender': 'Male', 'Date_of_birth': '01-01-2000', 'State': 'WA', 'Address': 'address_14', 'Phone_number': '+1-123-456-7890', 'Alternate_Mobile_Number': '+1-123-456-7890', 'Email_address': 'email_14@example.com', 'Marital_status': 'Single', 'Annual_Income': 114000.0, 'Employment_history': 'employment_14', 'Education_history': 'education_14', 'Criminal_record': False, 'Credit_history': True, 'Driver_license_number': '+1-123-456-7890', 'Tax_records': True, 'Travel_history': False, 'Property_ownership_records': True, 'Previous_lawsuits': False, 'Medical_history': True, 'Charitable_contributions': 140.0}\n",
            "{'Customer_Id': 15, 'Account_number': 115, 'First_Name': 'first_name_15', 'Last_Name': 'last_name_15', 'Age': 35, 'Gender': 'Male', 'Date_of_birth': '01-01-2000', 'State': 'WA', 'Address': 'address_15', 'Phone_number': '+1-123-456-7890', 'Alternate_Mobile_Number': '+1-123-456-7890', 'Email_address': 'email_15@example.com', 'Marital_status': 'Single', 'Annual_Income': 115000.0, 'Employment_history': 'employment_15', 'Education_history': 'education_15', 'Criminal_record': False, 'Credit_history': True, 'Driver_license_number': '+1-123-456-7890', 'Tax_records': True, 'Travel_history': False, 'Property_ownership_records': True, 'Previous_lawsuits': False, 'Medical_history': True, 'Charitable_contributions': 150.0}\n",
            "{'Customer_Id': 16, 'Account_number': 116, 'First_Name': 'first_name_16', 'Last_Name': 'last_name_16', 'Age': 36, 'Gender': 'Male', 'Date_of_birth': '01-01-2000', 'State': 'WA', 'Address': 'address_16', 'Phone_number': '+1-123-456-7890', 'Alternate_Mobile_Number': '+1-123-456-7890', 'Email_address': 'email_16@example.com', 'Marital_status': 'Single', 'Annual_Income': 116000.0, 'Employment_history': 'employment_16', 'Education_history': 'education_16', 'Criminal_record': False, 'Credit_history': True, 'Driver_license_number': '+1-123-456-7890', 'Tax_records': True, 'Travel_history': False, 'Property_ownership_records': True, 'Previous_lawsuits': False, 'Medical_history': True, 'Charitable_contributions': 160.0}\n",
            "{'Customer_Id': 17, 'Account_number': 117, 'First_Name': 'first_name_17', 'Last_Name': 'last_name_17', 'Age': 37, 'Gender': 'Male', 'Date_of_birth': '01-01-2000', 'State': 'WA', 'Address': 'address_17', 'Phone_number': '+1-123-456-7890', 'Alternate_Mobile_Number': '+1-123-456-7890', 'Email_address': 'email_17@example.com', 'Marital_status': 'Single', 'Annual_Income': 117000.0, 'Employment_history': 'employment_17', 'Education_history': 'education_17', 'Criminal_record': False, 'Credit_history': True, 'Driver_license_number': '+1-123-456-7890', 'Tax_records': True, 'Travel_history': False, 'Property_ownership_records': True, 'Previous_lawsuits': False, 'Medical_history': True, 'Charitable_contributions': 170.0}\n",
            "{'Customer_Id': 18, 'Account_number': 118, 'First_Name': 'first_name_18', 'Last_Name': 'last_name_18', 'Age': 38, 'Gender': 'Male', 'Date_of_birth': '01-01-2000', 'State': 'WA', 'Address': 'address_18', 'Phone_number': '+1-123-456-7890', 'Alternate_Mobile_Number': '+1-123-456-7890', 'Email_address': 'email_18@example.com', 'Marital_status': 'Single', 'Annual_Income': 118000.0, 'Employment_history': 'employment_18', 'Education_history': 'education_18', 'Criminal_record': False, 'Credit_history': True, 'Driver_license_number': '+1-123-456-7890', 'Tax_records': True, 'Travel_history': False, 'Property_ownership_records': True, 'Previous_lawsuits': False, 'Medical_history': True, 'Charitable_contributions': 180.0}\n",
            "{'Customer_Id': 19, 'Account_number': 119, 'First_Name': 'first_name_19', 'Last_Name': 'last_name_19', 'Age': 39, 'Gender': 'Male', 'Date_of_birth': '01-01-2000', 'State': 'WA', 'Address': 'address_19', 'Phone_number': '+1-123-456-7890', 'Alternate_Mobile_Number': '+1-123-456-7890', 'Email_address': 'email_19@example.com', 'Marital_status': 'Single', 'Annual_Income': 119000.0, 'Employment_history': 'employment_19', 'Education_history': 'education_19', 'Criminal_record': False, 'Credit_history': True, 'Driver_license_number': '+1-123-456-7890', 'Tax_records': True, 'Travel_history': False, 'Property_ownership_records': True, 'Previous_lawsuits': False, 'Medical_history': True, 'Charitable_contributions': 190.0}\n",
            "{'Customer_Id': 20, 'Account_number': 120, 'First_Name': 'first_name_20', 'Last_Name': 'last_name_20', 'Age': 40, 'Gender': 'Male', 'Date_of_birth': '01-01-2000', 'State': 'WA', 'Address': 'address_20', 'Phone_number': '+1-123-456-7890', 'Alternate_Mobile_Number': '+1-123-456-7890', 'Email_address': 'email_20@example.com', 'Marital_status': 'Single', 'Annual_Income': 120000.0, 'Employment_history': 'employment_20', 'Education_history': 'education_20', 'Criminal_record': False, 'Credit_history': True, 'Driver_license_number': '+1-123-456-7890', 'Tax_records': True, 'Travel_history': False, 'Property_ownership_records': True, 'Previous_lawsuits': False, 'Medical_history': True, 'Charitable_contributions': 200.0}\n",
            "{'Customer_Id': 21, 'Account_number': 121, 'First_Name': 'first_name_21', 'Last_Name': 'last_name_21', 'Age': 41, 'Gender': 'Male', 'Date_of_birth': '01-01-2000', 'State': 'WA', 'Address': 'address_21', 'Phone_number': '+1-123-456-7890', 'Alternate_Mobile_Number': '+1-123-456-7890', 'Email_address': 'email_21@example.com', 'Marital_status': 'Single', 'Annual_Income': 121000.0, 'Employment_history': 'employment_21', 'Education_history': 'education_21', 'Criminal_record': False, 'Credit_history': True, 'Driver_license_number': '+1-123-456-7890', 'Tax_records': True, 'Travel_history': False, 'Property_ownership_records': True, 'Previous_lawsuits': False, 'Medical_history': True, 'Charitable_contributions': 210.0}\n",
            "{'Customer_Id': 22, 'Account_number': 122, 'First_Name': 'first_name_22', 'Last_Name': 'last_name_22', 'Age': 42, 'Gender': 'Male', 'Date_of_birth': '01-01-2000', 'State': 'WA', 'Address': 'address_22', 'Phone_number': '+1-123-456-7890', 'Alternate_Mobile_Number': '+1-123-456-7890', 'Email_address': 'email_22@example.com', 'Marital_status': 'Single', 'Annual_Income': 122000.0, 'Employment_history': 'employment_22', 'Education_history': 'education_22', 'Criminal_record': False, 'Credit_history': True, 'Driver_license_number': '+1-123-456-7890', 'Tax_records': True, 'Travel_history': False, 'Property_ownership_records': True, 'Previous_lawsuits': False, 'Medical_history': True, 'Charitable_contributions': 220.0}\n",
            "{'Customer_Id': 23, 'Account_number': 123, 'First_Name': 'first_name_23', 'Last_Name': 'last_name_23', 'Age': 43, 'Gender': 'Male', 'Date_of_birth': '01-01-2000', 'State': 'WA', 'Address': 'address_23', 'Phone_number': '+1-123-456-7890', 'Alternate_Mobile_Number': '+1-123-456-7890', 'Email_address': 'email_23@example.com', 'Marital_status': 'Single', 'Annual_Income': 123000.0, 'Employment_history': 'employment_23', 'Education_history': 'education_23', 'Criminal_record': False, 'Credit_history': True, 'Driver_license_number': '+1-123-456-7890', 'Tax_records': True, 'Travel_history': False, 'Property_ownership_records': True, 'Previous_lawsuits': False, 'Medical_history': True, 'Charitable_contributions': 230.0}\n",
            "{'Customer_Id': 24, 'Account_number': 124, 'First_Name': 'first_name_24', 'Last_Name': 'last_name_24', 'Age': 44, 'Gender': 'Male', 'Date_of_birth': '01-01-2000', 'State': 'WA', 'Address': 'address_24', 'Phone_number': '+1-123-456-7890', 'Alternate_Mobile_Number': '+1-123-456-7890', 'Email_address': 'email_24@example.com', 'Marital_status': 'Single', 'Annual_Income': 124000.0, 'Employment_history': 'employment_24', 'Education_history': 'education_24', 'Criminal_record': False, 'Credit_history': True, 'Driver_license_number': '+1-123-456-7890', 'Tax_records': True, 'Travel_history': False, 'Property_ownership_records': True, 'Previous_lawsuits': False, 'Medical_history': True, 'Charitable_contributions': 240.0}\n",
            "{'Customer_Id': 25, 'Account_number': 125, 'First_Name': 'first_name_25', 'Last_Name': 'last_name_25', 'Age': 45, 'Gender': 'Male', 'Date_of_birth': '01-01-2000', 'State': 'WA', 'Address': 'address_25', 'Phone_number': '+1-123-456-7890', 'Alternate_Mobile_Number': '+1-123-456-7890', 'Email_address': 'email_25@example.com', 'Marital_status': 'Single', 'Annual_Income': 125000.0, 'Employment_history': 'employment_25', 'Education_history': 'education_25', 'Criminal_record': False, 'Credit_history': True, 'Driver_license_number': '+1-123-456-7890', 'Tax_records': True, 'Travel_history': False, 'Property_ownership_records': True, 'Previous_lawsuits': False, 'Medical_history': True, 'Charitable_contributions': 250.0}\n",
            "{'Customer_Id': 26, 'Account_number': 126, 'First_Name': 'first_name_26', 'Last_Name': 'last_name_26', 'Age': 46, 'Gender': 'Male', 'Date_of_birth': '01-01-2000', 'State': 'WA', 'Address': 'address_26', 'Phone_number': '+1-123-456-7890', 'Alternate_Mobile_Number': '+1-123-456-7890', 'Email_address': 'email_26@example.com', 'Marital_status': 'Single', 'Annual_Income': 126000.0, 'Employment_history': 'employment_26', 'Education_history': 'education_26', 'Criminal_record': False, 'Credit_history': True, 'Driver_license_number': '+1-123-456-7890', 'Tax_records': True, 'Travel_history': False, 'Property_ownership_records': True, 'Previous_lawsuits': False, 'Medical_history': True, 'Charitable_contributions': 260.0}\n",
            "{'Customer_Id': 27, 'Account_number': 127, 'First_Name': 'first_name_27', 'Last_Name': 'last_name_27', 'Age': 47, 'Gender': 'Male', 'Date_of_birth': '01-01-2000', 'State': 'WA', 'Address': 'address_27', 'Phone_number': '+1-123-456-7890', 'Alternate_Mobile_Number': '+1-123-456-7890', 'Email_address': 'email_27@example.com', 'Marital_status': 'Single', 'Annual_Income': 127000.0, 'Employment_history': 'employment_27', 'Education_history': 'education_27', 'Criminal_record': False, 'Credit_history': True, 'Driver_license_number': '+1-123-456-7890', 'Tax_records': True, 'Travel_history': False, 'Property_ownership_records': True, 'Previous_lawsuits': False, 'Medical_history': True, 'Charitable_contributions': 270.0}\n",
            "{'Customer_Id': 28, 'Account_number': 128, 'First_Name': 'first_name_28', 'Last_Name': 'last_name_28', 'Age': 48, 'Gender': 'Male', 'Date_of_birth': '01-01-2000', 'State': 'WA', 'Address': 'address_28', 'Phone_number': '+1-123-456-7890', 'Alternate_Mobile_Number': '+1-123-456-7890', 'Email_address': 'email_28@example.com', 'Marital_status': 'Single', 'Annual_Income': 128000.0, 'Employment_history': 'employment_28', 'Education_history': 'education_28', 'Criminal_record': False, 'Credit_history': True, 'Driver_license_number': '+1-123-456-7890', 'Tax_records': True, 'Travel_history': False, 'Property_ownership_records': True, 'Previous_lawsuits': False, 'Medical_history': True, 'Charitable_contributions': 280.0}\n",
            "{'Customer_Id': 29, 'Account_number': 129, 'First_Name': 'first_name_29', 'Last_Name': 'last_name_29', 'Age': 49, 'Gender': 'Male', 'Date_of_birth': '01-01-2000', 'State': 'WA', 'Address': 'address_29', 'Phone_number': '+1-123-456-7890', 'Alternate_Mobile_Number': '+1-123-456-7890', 'Email_address': 'email_29@example.com', 'Marital_status': 'Single', 'Annual_Income': 129000.0, 'Employment_history': 'employment_29', 'Education_history': 'education_29', 'Criminal_record': False, 'Credit_history': True, 'Driver_license_number': '+1-123-456-7890', 'Tax_records': True, 'Travel_history': False, 'Property_ownership_records': True, 'Previous_lawsuits': False, 'Medical_history': True, 'Charitable_contributions': 290.0}\n"
          ]
        }
      ]
    },
    {
      "cell_type": "code",
      "source": [],
      "metadata": {
        "id": "anjQSqDh9DTX"
      },
      "execution_count": null,
      "outputs": []
    }
  ]
}